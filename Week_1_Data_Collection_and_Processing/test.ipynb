{
 "cells": [
  {
   "cell_type": "code",
   "execution_count": 1,
   "metadata": {},
   "outputs": [
    {
     "data": {
      "application/vnd.jupyter.widget-view+json": {
       "model_id": "f470e09a973a4b058e2ece1dc96decc9",
       "version_major": 2,
       "version_minor": 0
      },
      "text/plain": [
       "Text(value='2020-01-01', description='Start Date:')"
      ]
     },
     "metadata": {},
     "output_type": "display_data"
    },
    {
     "data": {
      "application/vnd.jupyter.widget-view+json": {
       "model_id": "0397c93b1cae4616bab1ef30e3fc72b5",
       "version_major": 2,
       "version_minor": 0
      },
      "text/plain": [
       "Text(value='2024-08-16', description='End Date:')"
      ]
     },
     "metadata": {},
     "output_type": "display_data"
    },
    {
     "data": {
      "application/vnd.jupyter.widget-view+json": {
       "model_id": "727bcdd5404a465197e07ff2131fd6a4",
       "version_major": 2,
       "version_minor": 0
      },
      "text/plain": [
       "FloatSlider(value=0.05, description='Bollinger Threshold:', max=1.0, step=0.01)"
      ]
     },
     "metadata": {},
     "output_type": "display_data"
    },
    {
     "data": {
      "application/vnd.jupyter.widget-view+json": {
       "model_id": "3aa7313566044b4f9c94efa5dc983579",
       "version_major": 2,
       "version_minor": 0
      },
      "text/plain": [
       "Button(description='Run Analysis', style=ButtonStyle())"
      ]
     },
     "metadata": {},
     "output_type": "display_data"
    },
    {
     "ename": "NameError",
     "evalue": "name 'fetch_russell_2000_tickers' is not defined",
     "output_type": "error",
     "traceback": [
      "\u001b[1;31m---------------------------------------------------------------------------\u001b[0m",
      "\u001b[1;31mNameError\u001b[0m                                 Traceback (most recent call last)",
      "Cell \u001b[1;32mIn[1], line 107\u001b[0m, in \u001b[0;36mon_button_click\u001b[1;34m(button)\u001b[0m\n\u001b[0;32m    104\u001b[0m sp500_tickers \u001b[38;5;241m=\u001b[39m pd\u001b[38;5;241m.\u001b[39mread_html(\u001b[38;5;124m'\u001b[39m\u001b[38;5;124mhttps://en.wikipedia.org/wiki/List_of_S\u001b[39m\u001b[38;5;124m%\u001b[39m\u001b[38;5;124m26P_500_companies\u001b[39m\u001b[38;5;124m'\u001b[39m)[\u001b[38;5;241m0\u001b[39m][\u001b[38;5;124m'\u001b[39m\u001b[38;5;124mSymbol\u001b[39m\u001b[38;5;124m'\u001b[39m]\u001b[38;5;241m.\u001b[39mtolist()\n\u001b[0;32m    106\u001b[0m \u001b[38;5;66;03m# Fetch Russell 2000 tickers using the updated function\u001b[39;00m\n\u001b[1;32m--> 107\u001b[0m russell2000_tickers \u001b[38;5;241m=\u001b[39m \u001b[43mfetch_russell_2000_tickers\u001b[49m(excel_file_path\u001b[38;5;241m=\u001b[39m\u001b[38;5;124m'\u001b[39m\u001b[38;5;124mC:\u001b[39m\u001b[38;5;130;01m\\\\\u001b[39;00m\u001b[38;5;124mUsers\u001b[39m\u001b[38;5;130;01m\\\\\u001b[39;00m\u001b[38;5;124manmol\u001b[39m\u001b[38;5;130;01m\\\\\u001b[39;00m\u001b[38;5;124mDesktop\u001b[39m\u001b[38;5;130;01m\\\\\u001b[39;00m\u001b[38;5;124mrussell_2000.xlsx\u001b[39m\u001b[38;5;124m'\u001b[39m)\n\u001b[0;32m    109\u001b[0m \u001b[38;5;66;03m# Combine both lists of tickers\u001b[39;00m\n\u001b[0;32m    110\u001b[0m all_tickers \u001b[38;5;241m=\u001b[39m sp500_tickers \u001b[38;5;241m+\u001b[39m russell2000_tickers\n",
      "\u001b[1;31mNameError\u001b[0m: name 'fetch_russell_2000_tickers' is not defined"
     ]
    }
   ],
   "source": [
    "import yfinance as yf\n",
    "import pandas as pd\n",
    "import numpy as np\n",
    "import ipywidgets as widgets\n",
    "from IPython.display import display\n",
    "import logging\n",
    "\n",
    "# Set up logging\n",
    "logging.basicConfig(level=logging.INFO, format='%(asctime)s - %(levelname)s - %(message)s')\n",
    "\n",
    "def fetch_stock_data(ticker, start_date, end_date):\n",
    "    \"\"\"Fetch stock data from Yahoo Finance.\"\"\"\n",
    "    try:\n",
    "        data = yf.download(ticker, start=start_date, end=end_date)\n",
    "        return data\n",
    "    except Exception as e:\n",
    "        logging.error(f\"Error fetching data for {ticker}: {e}\")\n",
    "        return None\n",
    "\n",
    "def calculate_indicators(data, threshold):\n",
    "    \"\"\"Calculate technical indicators: Bollinger Bands, VWAP, Squeeze, etc.\"\"\"\n",
    "    data['MiddleBB'] = data['Close'].rolling(window=20).mean()\n",
    "    data['UpperBB'] = data['MiddleBB'] + (data['Close'].rolling(window=20).std() * 2)\n",
    "    data['LowerBB'] = data['MiddleBB'] - (data['Close'].rolling(window=20).std() * 2)\n",
    "    data['BB_Width'] = (data['UpperBB'] - data['LowerBB']) / data['MiddleBB']\n",
    "    data['Squeeze'] = (data['BB_Width'] < threshold).astype(int)\n",
    "    data['VWAP'] = (data['Close'] * data['Volume']).cumsum() / data['Volume'].cumsum()\n",
    "    data['Low_Lower_Than_Previous'] = (data['Low'] < data['Low'].shift(1)).astype(int)\n",
    "    data['Close_Above_VWAP'] = (data['Close'] > data['VWAP']).astype(int)\n",
    "    data['Volume_Increase'] = (data['Volume'] > data['Volume'].rolling(window=5).mean()).astype(int)\n",
    "\n",
    "    # Calculate moving average for use as a support level\n",
    "    data['MA'] = data['Close'].rolling(window=50).mean()\n",
    "\n",
    "    return data\n",
    "\n",
    "def detect_spring(data):\n",
    "    \"\"\"Identify potential Spring patterns with enhanced criteria.\"\"\"\n",
    "    data['Spring'] = ((data['Low_Lower_Than_Previous'] == 1) &\n",
    "                      (data['Close_Above_VWAP'] == 1) &\n",
    "                      (data['Volume_Increase'] == 1) &\n",
    "                      (data['BB_Width'] <= 0.05)).astype(int)  # Consider narrow Bollinger Bands\n",
    "    return data\n",
    "\n",
    "def confirm_spring(data):\n",
    "    \"\"\"Confirm Spring patterns by checking future price movements and rebounds.\"\"\"\n",
    "    squeeze_spring = data[(data['Squeeze'] == 1) & (data['Spring'] == 1)].copy()\n",
    "    squeeze_spring['Days_Between'] = (squeeze_spring.index.to_series().diff().dt.days.fillna(0).astype(int))\n",
    "\n",
    "    # Initialize 'Confirmed_Spring' with 0\n",
    "    squeeze_spring['Confirmed_Spring'] = 0\n",
    "\n",
    "    # Confirm spring by checking for rebounds within the next 5 days\n",
    "    for i in range(len(squeeze_spring)):\n",
    "        date = squeeze_spring.index[i]\n",
    "        next_days = data.loc[date:].head(6)  # Include the day itself and next 5 days\n",
    "        if len(next_days) > 1:\n",
    "            for j in range(1, len(next_days)):  # Start from the next day\n",
    "                # Check if price rebounds above the moving average and exceeds 2% of the MA\n",
    "                if (next_days['Close'].iloc[j] > squeeze_spring['MA'].iloc[i] * 1.02) and \\\n",
    "                   (next_days['Low'].iloc[j] < squeeze_spring['MA'].iloc[i]):\n",
    "                    squeeze_spring.at[date, 'Confirmed_Spring'] = 1\n",
    "                    # Adjust the date to the exact day where the pattern confirms and subtract one day\n",
    "                    adjusted_date = next_days.index[j] - pd.Timedelta(days=1)\n",
    "                    squeeze_spring.index = squeeze_spring.index.where(squeeze_spring.index != date, adjusted_date)\n",
    "                    break\n",
    "    \n",
    "    return squeeze_spring[squeeze_spring['Confirmed_Spring'] == 1]\n",
    "\n",
    "def analyze_stock_data(ticker, start_date, end_date, threshold):\n",
    "    \"\"\"Fetch, analyze, and return data for stocks matching the criteria.\"\"\"\n",
    "    data = fetch_stock_data(ticker, start_date, end_date)\n",
    "    if data is None or data.empty:\n",
    "        return None\n",
    "    \n",
    "    data = calculate_indicators(data, threshold)\n",
    "    data = detect_spring(data)\n",
    "    confirmed_springs = confirm_spring(data)\n",
    "    \n",
    "    return confirmed_springs[['Close', 'Volume', 'Squeeze', 'Spring', 'Days_Between', 'Confirmed_Spring']]\n",
    "\n",
    "def fetch_russell_2000_tickers(excel_file_path):\n",
    "    \"\"\"Fetch Russell 2000 tickers from an Excel file.\"\"\"\n",
    "    try:\n",
    "        df = pd.read_excel(excel_file_path)\n",
    "        tickers = df['Ticker'].dropna().tolist()\n",
    "        return tickers\n",
    "    except Exception as e:\n",
    "        logging.error(f\"Error fetching Russell 2000 tickers: {e}\")\n",
    "        return []\n",
    "\n",
    "# Define UI elements for user input\n",
    "start_date_input = widgets.Text(value='2020-01-01', description='Start Date:', disabled=False)\n",
    "end_date_input = widgets.Text(value='2024-08-16', description='End Date:', disabled=False)\n",
    "bollinger_slider = widgets.FloatSlider(value=0.05, min=0.00, max=1.00, step=0.01, description='Bollinger Threshold:', disabled=False)\n",
    "run_analysis_button = widgets.Button(description=\"Run Analysis\")\n",
    "\n",
    "# Display widgets\n",
    "display(start_date_input)\n",
    "display(end_date_input)\n",
    "display(bollinger_slider)\n",
    "display(run_analysis_button)\n",
    "\n",
    "def on_button_click(button):\n",
    "    \"\"\"Run analysis for all S&P 500 and Russell 2000 stocks and save results.\"\"\"\n",
    "    # Fetch S&P 500 tickers\n",
    "    sp500_tickers = pd.read_html('https://en.wikipedia.org/wiki/List_of_S%26P_500_companies')[0]['Symbol'].tolist()\n",
    "    \n",
    "    # Fetch Russell 2000 tickers using the updated function\n",
    "    russell2000_tickers = fetch_russell_2000_tickers(excel_file_path='C:\\\\Users\\\\anmol\\\\Desktop\\\\russell_2000.xlsx')\n",
    "\n",
    "    # Combine both lists of tickers\n",
    "    all_tickers = sp500_tickers + russell2000_tickers\n",
    "    \n",
    "    # Get user input values\n",
    "    start_date = start_date_input.value\n",
    "    end_date = end_date_input.value\n",
    "    bollinger_threshold = bollinger_slider.value\n",
    "    results = {}\n",
    "\n",
    "    for ticker in all_tickers:\n",
    "        logging.info(f\"Analyzing {ticker}...\")\n",
    "        result = analyze_stock_data(ticker, start_date, end_date, bollinger_threshold)\n",
    "        if result is not None:\n",
    "            results[ticker] = result.head(1)  # Keep only the first confirmed occurrence\n",
    "    \n",
    "    if results:\n",
    "        combined_results = pd.concat(results, names=['Ticker', 'Date'])\n",
    "        combined_results.to_csv('all_stocks_confirmed_spring_filtered.csv')\n",
    "        logging.info(\"Results saved to 'all_stocks_confirmed_spring_filtered.csv'.\")\n",
    "    else:\n",
    "        logging.info(\"No stocks with confirmed Spring pattern found.\")\n",
    "\n",
    "# Bind button to callback function\n",
    "run_analysis_button.on_click(on_button_click)\n"
   ]
  }
 ],
 "metadata": {
  "kernelspec": {
   "display_name": "myenv",
   "language": "python",
   "name": "python3"
  },
  "language_info": {
   "codemirror_mode": {
    "name": "ipython",
    "version": 3
   },
   "file_extension": ".py",
   "mimetype": "text/x-python",
   "name": "python",
   "nbconvert_exporter": "python",
   "pygments_lexer": "ipython3",
   "version": "3.12.5"
  }
 },
 "nbformat": 4,
 "nbformat_minor": 2
}
